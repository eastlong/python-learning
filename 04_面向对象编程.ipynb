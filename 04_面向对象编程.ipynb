{
 "cells": [
  {
   "cell_type": "markdown",
   "metadata": {},
   "source": [
    "## 类(Class)与对象(Object)\n",
    "**类(Class)是用来描述具有相同属性(Attribute)和方法(Method)对象的集合**。对象(Object)是类(Class)的具体实例。比如每个学生都有名字和分数，这是他们共同的属性。这时我们就可以设计一个学生类, 用于记录学生的名字和分数，并自定义方法打印出他们的名字和方法。\n",
    "- 属性(Attribute): 类里面用于描述所有对象共同特征的变量或数据。比如学生的名字和分数。\n",
    "- 方法(Method): 类里面的函数，用来区别类外面的函数, 用来实现某些功能。比如打印出学生的名字和分数。"
   ]
  },
  {
   "cell_type": "code",
   "execution_count": 6,
   "metadata": {},
   "outputs": [
    {
     "name": "stdout",
     "output_type": "stream",
     "text": [
      "Name:Tom, Score:90\n"
     ]
    }
   ],
   "source": [
    "class Student:\n",
    "    def __init__(self, name, score):\n",
    "        self.name = name\n",
    "        self.score = score\n",
    "\n",
    "    def show(self):\n",
    "        print('Name:{}, Score:{}'.format(self.name, self.score))\n",
    "\n",
    "if __name__ == '__main__':\n",
    "    student1 = Student('Tom', 90)\n",
    "    student2 = Student(\"Lucy\", 99)\n",
    "    "
   ]
  },
  {
   "cell_type": "markdown",
   "metadata": {},
   "source": [
    "在这个案例中，我们只定义了一个抽象的类，电脑并没有创建什么存储空间。只有当我们完成类的实例化(Instance)时，电脑才会创建一个具体的对象（Object），并为之分配存储空间。所以对象（Object)是类（Class)的一个实例。比如：\n",
    "\n",
    "```python\n",
    "s1 = Student('Tom', 90)\n",
    "s1.show()\n",
    "```\n",
    "\n",
    "在这个案例中，Student是类，student1和student2是我们创建的具体的学生对象。当我们输入上述代码时，**Python会自动调用默认的__init__初始构造函数来生成具体的对象**。关键字self是个非常重要的参数，代表创建的对象本身。\n",
    "\n",
    "当你创建具体的对象后，你可以直接通过student1.name和student1.score来分别获取学生的名字和分数，也可以通过student1.show()来直接打印学生的名字和分数。"
   ]
  },
  {
   "cell_type": "markdown",
   "metadata": {},
   "source": [
    "## 类变量(class variables)与实例变量（instance variables）\n",
    "假设我们需要在Student类里增加一个计数器number，每当一个新的学生对象(Object)被创建时，这个计数器就自动加1。由于这个计数器不属于某个具体学生，而属于Student类的，所以被称为类变量(class variables)。而姓名和分数属于每个学生对象的，所以属于实例变量(instance variables)，也被称为对象变量(object variables)。\n",
    "\n",
    "这个新Student类看上去应该是这样的:"
   ]
  },
  {
   "cell_type": "code",
   "execution_count": 7,
   "metadata": {},
   "outputs": [],
   "source": [
    "class Student:\n",
    "    number = 0\n",
    "\n",
    "    def __init__(self, name, score):\n",
    "        self.name = name\n",
    "        self.score = score\n",
    "\n",
    "    def show(self):\n",
    "        print('Nmae:{}. Score:{}'.format(self.name, self.score))"
   ]
  },
  {
   "cell_type": "markdown",
   "metadata": {},
   "source": [
    "类变量和实例变量的区别很大，访问方式也也不一样。\n",
    "- 类变量：类变量在整个实例化的对象中是公用的。类变量定义在类中且在函数体之外。访问或调用类变量的正确方式是类名.变量名或者`self.__class__`.变量名。`self.__class__`自动返回每个对象的类名。\n",
    "- 实例变量：定义在方法中的变量，属于某个具体的对象。访问或调用实例变量的正确方式是对象名.变量名或者self.变量名."
   ]
  },
  {
   "cell_type": "code",
   "execution_count": 8,
   "metadata": {},
   "outputs": [
    {
     "name": "stdout",
     "output_type": "stream",
     "text": [
      "2\n",
      "2\n"
     ]
    }
   ],
   "source": [
    "class Student:\n",
    "    # number属于类变量，不属于某个具体的学生实例\n",
    "    number = 0\n",
    "\n",
    "     # 定义学生属性，初始化方法\n",
    "    def __init__(self, name, score):\n",
    "        self.name = name\n",
    "        self.score = score\n",
    "        Student.number = Student.number + 1\n",
    "\n",
    "    def show(self):\n",
    "        print(\"Name: {}. Score: {}\".format(self.name, self.score))\n",
    "\n",
    "if __name__ == '__main__':\n",
    "    student1 = Student(\"John\", 100)\n",
    "    student2 = Student(\"Lucy\", 99)\n",
    "    print(Student.number) # 打印2\n",
    "    print(student1.__class__.number) # 打印2"
   ]
  },
  {
   "cell_type": "markdown",
   "metadata": {},
   "source": [
    "## 类方法(Class method)\n",
    "正如同有些变量只属于类，有些方法也只属于类，不属于具体的对象。你有没有注意到属于对象的方法里面都有一个self参数, 比如`__init__(self)`, `show(self)`? `self`是指**对象本身**。属于类的方法不使用`self`参数， 而使用参数`cls`，代表类本身。另外习惯上对类方法我们会加上`@classmethod`的修饰符做说明。\n",
    "\n",
    "同样拿Student为例子，我们不用print函数打印出已创建学生对象的数量，而是自定义一个类方法来打印，我们可以这么做:"
   ]
  },
  {
   "cell_type": "code",
   "execution_count": 10,
   "metadata": {},
   "outputs": [
    {
     "name": "stdout",
     "output_type": "stream",
     "text": [
      "Total:2\n"
     ]
    }
   ],
   "source": [
    "class Student:\n",
    "    # number属于类变量，不属于某个具体的学生实例\n",
    "    number = 0\n",
    "    # 定义学生属性，初始化方法\n",
    "    # name和score属于实例变量\n",
    "    def __init__(self, name, score):\n",
    "        self.name = name\n",
    "        self.score = score\n",
    "        Student.number = Student.number + 1\n",
    "    # 定义打印学生信息的方法\n",
    "    def show(self):\n",
    "        print(\"Name: {}. Score: {}\".format(self.name, self.score))   \n",
    "\n",
    "    # 定义类方法，打印学生的数量\n",
    "    @classmethod\n",
    "    def total(cls):\n",
    "        print('Total:{0}'.format(cls.number))\n",
    "\n",
    "if __name__ == '__main__':\n",
    "    student1 = Student('Tom', 90)\n",
    "    student2 = Student('Jerry', 100)\n",
    "\n",
    "    Student.total() # 打印2\n"
   ]
  },
  {
   "cell_type": "markdown",
   "metadata": {},
   "source": [
    "## 类的私有属性(private attribute)和私有方法(private method)\n",
    "类里面的私有属性和私有方法以双下划线`__`开头。私有属性或方法不能在类的外部被使用或直接访问。我们同样看看学生类这个例子，把分数score变为私有属性，看看会发生什么。"
   ]
  },
  {
   "cell_type": "code",
   "execution_count": null,
   "metadata": {},
   "outputs": [],
   "source": [
    "# 创建一个学生类\n",
    "class Student:\n",
    "\n",
    "    # 定义学生属性，初始化方法\n",
    "    # name和score属于实例变量, 其中__score属于私有变量\n",
    "    def __init__(self, name, score):\n",
    "        self.name = name\n",
    "        self.__score = score\n",
    "    # 定义打印学生信息的方法\n",
    "    def show(self):\n",
    "        print(\"Name: {}. Score: {}\".format(self.name, self.__score))\n",
    "\n",
    "if __name__ == '__main__':\n",
    "    # 创建一个学生对象\n",
    "    student1 = Student(\"Tom\", 100)\n",
    "    student1.show() # Name: Tom. Score: 100\n",
    "    student1.__score # 报错\n",
    "    "
   ]
  },
  {
   "cell_type": "markdown",
   "metadata": {},
   "source": [
    "如果你将score变成`__score`, 你将不能直接通过`student1.__score`获取该学生的分数。**show()可以正常显示分数，是因为它是类里面的函数，可以访问私有变量**。\n",
    "\n",
    "私有方法是同样的道理。当我们把show()变成，**__show()**你将不能再通过student1.__show()打印出学生的名字和分数。值得注意的是私有方法必需含有self这个参数，且把它作为第一个参数。\n",
    "\n",
    "在面向对象的编程中,通常情况下很少让外部类直接访问类内部的属性和方法，而是向外部类提供一些按钮,对其内部的成员相互进行访问,以保证程序的安全性，这就是**封装**。"
   ]
  },
  {
   "cell_type": "markdown",
   "metadata": {},
   "source": [
    "## @property的用法与神奇之处\n",
    "在上述案例中用户不能用student1.__score方式访问学生分数，然而用户也就知道了__score是个私有变量。我们有没有一种方法让用户通过student1.score来访问学生分数而继续保持__score私有变量的属性呢？这时我们就可以借助python的@property装饰器了。我们可以先定义一个方法score(), 然后利用@property把这个函数伪装成属性。见下面例子:"
   ]
  },
  {
   "cell_type": "markdown",
   "metadata": {},
   "source": [
    "参考：https://pythondjango.cn/python/advanced/1-python-object-class-programming/"
   ]
  },
  {
   "cell_type": "code",
   "execution_count": 13,
   "metadata": {},
   "outputs": [
    {
     "name": "stdout",
     "output_type": "stream",
     "text": [
      "Name: John. Score: 100\n"
     ]
    }
   ],
   "source": [
    "# 创建一个学生类\n",
    "class Student:\n",
    "\n",
    "    # 定义学生属性，初始化方法\n",
    "    # name和score属于实例变量, 其中score属于私有变量\n",
    "    def __init__(self, name, score):\n",
    "        self.name = name\n",
    "        self.__score = score\n",
    "\n",
    "    @property\n",
    "    def score(self):\n",
    "        print(\"Name: {}. Score: {}\".format(self.name, self.__score))\n",
    "\n",
    "student1 = Student(\"John\", 100)\n",
    "student1.score"
   ]
  },
  {
   "cell_type": "markdown",
   "metadata": {},
   "source": [
    "注意： 一旦给函数加上一个装饰器`@property`,调用函数的时候不用加括号就可以直接调用函数了"
   ]
  },
  {
   "cell_type": "markdown",
   "metadata": {},
   "source": [
    "## 类的继承(Inheritance)\n",
    "面向对象的编程带来的最大好处之一就是代码的重用，实现这种重用的方法之一是通过继承(Inheritance)。你可以先定义一个基类(Base class)或父类(Parent class)，再按通过class 子类名（父类名)来创建子类(Child class)。这样子类就可以从父类那里获得其已有的属性与方法，这种现象叫做类的继承。\n",
    "\n",
    "我们再看另一个例子，老师和学生同属学校成员，都有姓名和年龄的属性，然而老师有工资这个专有属性，学生有分数这个专有属性。这时我们就可以定义1一个学校成员父类，2个子类。\n"
   ]
  },
  {
   "cell_type": "code",
   "execution_count": 14,
   "metadata": {},
   "outputs": [
    {
     "name": "stdout",
     "output_type": "stream",
     "text": [
      "Name:\"John\" Age:\"44\" Salary: $60000\n",
      "Name:\"Mike\" Age:\"12\" score: 99\n"
     ]
    }
   ],
   "source": [
    "class SchoolMember:\n",
    "    def __init__(self, name, age):\n",
    "        self.name = name\n",
    "        self.age = age\n",
    "\n",
    "    def tell(self):\n",
    "        print('Name:\"{}\" Age:\"{}\"'.format(self.name, self.age), end=\" \")\n",
    "\n",
    "class Teacher(SchoolMember):\n",
    "    def __init__(self, name, age, salary):\n",
    "        SchoolMember.__init__(self, name, age)\n",
    "        self.salary = salary\n",
    "\n",
    "    def tell(self):\n",
    "        SchoolMember.tell(self)\n",
    "        print('Salary: {}'.format(self.salary))\n",
    "\n",
    "\n",
    "class Student(SchoolMember):\n",
    "\n",
    "    def __init__(self, name, age, score):\n",
    "        SchoolMember.__init__(self, name, age)\n",
    "        self.score = score\n",
    "    \n",
    "    def tell(self):\n",
    "        SchoolMember.tell(self)\n",
    "        print('score: {}'.format(self.score))\n",
    "\n",
    "teacher1 = Teacher('John', 44, \"$60000\")\n",
    "student1 = Student('Mike', 12, 99)\n",
    "\n",
    "teacher1.tell()\n",
    "student1.tell()"
   ]
  },
  {
   "cell_type": "markdown",
   "metadata": {},
   "source": [
    "上述代码中，你注意到以下几点了吗？\n",
    "- 在创建子类的过程中，你需要手动调用父类的构造函数__init__来完成子类的构造。\n",
    "- 在子类中调用父类的方法时，需要加上父类的类名前缀，且需要带上self参数变量。比如SchoolMember.tell(self), 这个可以通过使用super关键词简化代码。\n",
    "-** 如果子类调用了某个方法(如tell())或属性，Python会先在子类中找，如果找到了会直接调用。如果找不到才会去父类找。**这为方法重写带来了便利。\n",
    "\n",
    "实际Python编程过程中，一个子类可以继承多个父类，原理是一样的。第一步总是要手动调用__init__构造函数。"
   ]
  },
  {
   "cell_type": "markdown",
   "metadata": {},
   "source": [
    "## super()关键字调用父类方法\n",
    "在子类当中可以通过使用super关键字来直接调用父类的中相应的方法，简化代码。在下面例子中，学生子类调用了父类的tell()方法。`super().tell()`等同于`SchoolMember.tell(self)`。当你使用Python super()关键字调用父类方法时时，注意去掉括号里self这个参数。"
   ]
  },
  {
   "cell_type": "code",
   "execution_count": 15,
   "metadata": {},
   "outputs": [
    {
     "name": "stdout",
     "output_type": "stream",
     "text": [
      "Name:\"Bob\" Age:\"11\" score: 90\n"
     ]
    }
   ],
   "source": [
    "class Student(SchoolMember):\n",
    "\n",
    "    def __init__(self, name, age, score):\n",
    "        super().__init__(name, age)\n",
    "        self.score = score\n",
    "    \n",
    "    def tell(self):\n",
    "        super().tell() # 等同于 SchoolMember.tell(self)\n",
    "        print('score: {}'.format(self.score))\n",
    "\n",
    "student2 = Student('Bob', 11, 90)\n",
    "student2.tell()"
   ]
  },
  {
   "cell_type": "markdown",
   "metadata": {},
   "source": [
    "## 静态变量(static variable)和静态方法(static method)\n",
    "静态变量和静态方法都属于类的静态成员，它们与普通的实例变量和实例方法不同，静态变量和静态方法只属于定义它们的类，而不属于某一个实例对象。\n",
    "\n",
    "**由于Python属于动态语言，不存在绝对的静态变量，所以类变量(比如下例中的number)一般就是静态变量，无需显示地声明**。把类中的方法声明为静态方法，可以使用@staticmethod装饰器，如下例中的func1方法"
   ]
  },
  {
   "cell_type": "code",
   "execution_count": 17,
   "metadata": {},
   "outputs": [
    {
     "name": "stdout",
     "output_type": "stream",
     "text": [
      "Name: Tom. Score: 90\n"
     ]
    }
   ],
   "source": [
    "# 创建一个学生类\n",
    "class Student:\n",
    "    # number属于类变量，定义在方法外，不属于具体实例\n",
    "    number = 0\n",
    "    # 定义学生属性，初始化方法\n",
    "    # name和score属于实例变量，定义在方法里\n",
    "    def __init__(self, name, score):\n",
    "        self.name = name\n",
    "        self.score = score\n",
    "        \n",
    "    # 定义打印学生信息的方法\n",
    "    def show(self):\n",
    "        print(\"Name: {}. Score: {}\".format(self.name, self.score))\n",
    "    \n",
    "    # 静态方法无法使用cls和self参数访问类或实例的变量\n",
    "    @staticmethod\n",
    "    def func1():\n",
    "        print(\"this is static function!\")\n",
    "\n",
    "student1 = Student(\"Tom\", 90)\n",
    "student1.show()"
   ]
  },
  {
   "cell_type": "markdown",
   "metadata": {},
   "source": [
    "**静态变量和静态方法都可以通过类名和实例对象进行访问, 同时不像类方法和实例方法，静态方法无法接收cls和self作为第一个参数**。"
   ]
  },
  {
   "cell_type": "code",
   "execution_count": null,
   "metadata": {},
   "outputs": [],
   "source": []
  }
 ],
 "metadata": {
  "kernelspec": {
   "display_name": "Python 3",
   "language": "python",
   "name": "python3"
  },
  "language_info": {
   "codemirror_mode": {
    "name": "ipython",
    "version": 3
   },
   "file_extension": ".py",
   "mimetype": "text/x-python",
   "name": "python",
   "nbconvert_exporter": "python",
   "pygments_lexer": "ipython3",
   "version": "3.11.3"
  },
  "orig_nbformat": 4
 },
 "nbformat": 4,
 "nbformat_minor": 2
}
