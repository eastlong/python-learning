{
 "cells": [
  {
   "attachments": {},
   "cell_type": "markdown",
   "metadata": {},
   "source": [
    "# Python3 字典\n",
    "字典是另一种可变容器模型，且可存储任意类型对象。\n",
    "\n",
    "字典的每个键值 key=>value 对用冒号 : 分割，每个对之间用逗号(,)分割，整个字典包括在花括号 {} 中 ,格式如下所示：\n",
    "\n",
    "d = {key1 : value1, key2 : value2, key3 : value3 }"
   ]
  },
  {
   "cell_type": "code",
   "execution_count": 1,
   "metadata": {},
   "outputs": [
    {
     "data": {
      "text/plain": [
       "{'name': 'runoob', 'likes': 123, 'url': 'www.runoob.com'}"
      ]
     },
     "execution_count": 1,
     "metadata": {},
     "output_type": "execute_result"
    }
   ],
   "source": [
    "tinydict = {'name': 'runoob', 'likes': 123, 'url': 'www.runoob.com'}\n",
    "tinydict"
   ]
  },
  {
   "cell_type": "code",
   "execution_count": 2,
   "metadata": {},
   "outputs": [],
   "source": [
    "tinydict1 = { 'abc': 456 }\n",
    "tinydict2 = { 'abc': 123, 98.6: 37 }"
   ]
  },
  {
   "cell_type": "markdown",
   "metadata": {},
   "source": [
    "## 创建空字典\n",
    "使用大括号 { } 创建空字典："
   ]
  },
  {
   "cell_type": "code",
   "execution_count": 3,
   "metadata": {},
   "outputs": [
    {
     "name": "stdout",
     "output_type": "stream",
     "text": [
      "{}\n",
      "Length: 0\n",
      "<class 'dict'>\n"
     ]
    }
   ],
   "source": [
    "# 使用大括号 {} 来创建空字典\n",
    "emptyDict = {}\n",
    " \n",
    "# 打印字典\n",
    "print(emptyDict)\n",
    " \n",
    "# 查看字典的数量\n",
    "print(\"Length:\", len(emptyDict))\n",
    " \n",
    "# 查看类型\n",
    "print(type(emptyDict))"
   ]
  },
  {
   "cell_type": "code",
   "execution_count": 4,
   "metadata": {},
   "outputs": [
    {
     "name": "stdout",
     "output_type": "stream",
     "text": [
      "{}\n",
      "Length: 0\n",
      "<class 'dict'>\n"
     ]
    }
   ],
   "source": [
    "# 使用内建函数 dict() 创建字典：\n",
    "emptyDict = dict()\n",
    "\n",
    "# 打印字典\n",
    "print(emptyDict)\n",
    " \n",
    "# 查看字典的数量\n",
    "print(\"Length:\", len(emptyDict))\n",
    " \n",
    "# 查看类型\n",
    "print(type(emptyDict))"
   ]
  },
  {
   "cell_type": "markdown",
   "metadata": {},
   "source": [
    "## 访问字典里的值\n",
    "把相应的键放入到方括号中，如下实例:"
   ]
  },
  {
   "cell_type": "code",
   "execution_count": 5,
   "metadata": {},
   "outputs": [
    {
     "name": "stdout",
     "output_type": "stream",
     "text": [
      "tinydict['Name']:  Runoob\n",
      "tinydict['Age']:  7\n"
     ]
    }
   ],
   "source": [
    "tinydict = {'Name': 'Runoob', 'Age': 7, 'Class': 'First'}\n",
    "\n",
    "print (\"tinydict['Name']: \", tinydict['Name'])\n",
    "print (\"tinydict['Age']: \", tinydict['Age'])"
   ]
  },
  {
   "cell_type": "code",
   "execution_count": 6,
   "metadata": {},
   "outputs": [
    {
     "ename": "KeyError",
     "evalue": "'Alice'",
     "output_type": "error",
     "traceback": [
      "\u001b[1;31m---------------------------------------------------------------------------\u001b[0m",
      "\u001b[1;31mKeyError\u001b[0m                                  Traceback (most recent call last)",
      "Cell \u001b[1;32mIn[6], line 4\u001b[0m\n\u001b[0;32m      1\u001b[0m \u001b[39m# 如果用字典里没有的键访问数据，会输出错误如下：\u001b[39;00m\n\u001b[0;32m      2\u001b[0m tinydict \u001b[39m=\u001b[39m {\u001b[39m'\u001b[39m\u001b[39mName\u001b[39m\u001b[39m'\u001b[39m: \u001b[39m'\u001b[39m\u001b[39mRunoob\u001b[39m\u001b[39m'\u001b[39m, \u001b[39m'\u001b[39m\u001b[39mAge\u001b[39m\u001b[39m'\u001b[39m: \u001b[39m7\u001b[39m, \u001b[39m'\u001b[39m\u001b[39mClass\u001b[39m\u001b[39m'\u001b[39m: \u001b[39m'\u001b[39m\u001b[39mFirst\u001b[39m\u001b[39m'\u001b[39m}\n\u001b[1;32m----> 4\u001b[0m \u001b[39mprint\u001b[39m (\u001b[39m\"\u001b[39m\u001b[39mtinydict[\u001b[39m\u001b[39m'\u001b[39m\u001b[39mAlice\u001b[39m\u001b[39m'\u001b[39m\u001b[39m]: \u001b[39m\u001b[39m\"\u001b[39m, tinydict[\u001b[39m'\u001b[39;49m\u001b[39mAlice\u001b[39;49m\u001b[39m'\u001b[39;49m])\n",
      "\u001b[1;31mKeyError\u001b[0m: 'Alice'"
     ]
    }
   ],
   "source": [
    "# 如果用字典里没有的键访问数据，会输出错误如下：\n",
    "tinydict = {'Name': 'Runoob', 'Age': 7, 'Class': 'First'}\n",
    "\n",
    "print (\"tinydict['Alice']: \", tinydict['Alice'])"
   ]
  },
  {
   "cell_type": "markdown",
   "metadata": {},
   "source": [
    "## 修改字典\n",
    "向字典添加新内容的方法是增加新的键/值对，修改或删除已有键/值对如下实例:"
   ]
  },
  {
   "cell_type": "code",
   "execution_count": 7,
   "metadata": {},
   "outputs": [
    {
     "name": "stdout",
     "output_type": "stream",
     "text": [
      "tinydict['Age']:  8\n",
      "tinydict['School']:  菜鸟教程\n"
     ]
    }
   ],
   "source": [
    "tinydict = {'Name': 'Runoob', 'Age': 7, 'Class': 'First'}\n",
    "\n",
    "tinydict['Age'] = 8\n",
    "tinydict['School'] = '菜鸟教程'\n",
    "\n",
    "print (\"tinydict['Age']: \", tinydict['Age'])\n",
    "print (\"tinydict['School']: \", tinydict['School'])"
   ]
  },
  {
   "cell_type": "code",
   "execution_count": null,
   "metadata": {},
   "outputs": [],
   "source": [
    "## 删除字典元素\n",
    "能删单一的元素也能清空字典，清空只需一项操作。\n",
    "\n",
    "显式删除一个字典用del命令，如下实例："
   ]
  }
 ],
 "metadata": {
  "kernelspec": {
   "display_name": "Python 3",
   "language": "python",
   "name": "python3"
  },
  "language_info": {
   "codemirror_mode": {
    "name": "ipython",
    "version": 3
   },
   "file_extension": ".py",
   "mimetype": "text/x-python",
   "name": "python",
   "nbconvert_exporter": "python",
   "pygments_lexer": "ipython3",
   "version": "3.11.3"
  },
  "orig_nbformat": 4
 },
 "nbformat": 4,
 "nbformat_minor": 2
}
