{
 "cells": [
  {
   "cell_type": "markdown",
   "metadata": {},
   "source": [
    "## *args 的用法\n",
    "\n",
    "`*args` 和 `**kwargs` 主要用于函数定义。 你可以将不定数量的参数传递给一个函数。\n",
    "\n",
    "这里的不定的意思是：预先并不知道, 函数使用者会传递多少个参数给你, 所以在这个场景下使用这两个关键字。 `*args` 是用来发送一个非键值对的可变数量的参数列表给一个函数."
   ]
  },
  {
   "cell_type": "code",
   "execution_count": 1,
   "metadata": {},
   "outputs": [
    {
     "name": "stdout",
     "output_type": "stream",
     "text": [
      "first normal arg: yasoob\n",
      "another arg through *argv: python\n",
      "another arg through *argv: eggs\n",
      "another arg through *argv: test\n"
     ]
    }
   ],
   "source": [
    "def test_var_args(f_arg, *argv):\n",
    "    print(\"first normal arg:\", f_arg)\n",
    "    for arg in argv:\n",
    "        print(\"another arg through *argv:\", arg)\n",
    "\n",
    "if __name__ == '__main__':\n",
    "    test_var_args('yasoob', 'python', 'eggs', 'test')"
   ]
  },
  {
   "cell_type": "markdown",
   "metadata": {},
   "source": [
    "## **kwargs 的用法\n",
    "\n",
    "`**kwargs` 允许你将不定长度的键值对, 作为参数传递给一个函数。 如果你想要在一个函数里处理带名字的参数, 你应该使用`**kwargs`。"
   ]
  },
  {
   "cell_type": "code",
   "execution_count": 2,
   "metadata": {},
   "outputs": [
    {
     "name": "stdout",
     "output_type": "stream",
     "text": [
      "name = Jack\n",
      "age = 12\n"
     ]
    }
   ],
   "source": [
    "def greet_me(**kwargs):\n",
    "    for key, value in kwargs.items():\n",
    "        print(\"{0} = {1}\".format(key, value))\n",
    "\n",
    "greet_me(name=\"Jack\", age=12)\n",
    "\n",
    "# name = Jack\n",
    "# age = 12"
   ]
  },
  {
   "cell_type": "markdown",
   "metadata": {},
   "source": [
    "现在你可以看出我们怎样在一个函数里, 处理了一个键值对参数了。\n",
    "\n",
    "这就是`**kwargs`的基础, 而且你可以看出它有多么管用。 接下来让我们谈谈，你怎样使用`*args` 和 `**kwargs`来调用一个参数为列表或者字典的函数。"
   ]
  },
  {
   "cell_type": "markdown",
   "metadata": {},
   "source": [
    "## 使用 *args 和 **kwargs 来调用函数\n",
    "那现在我们将看到怎样使用*args和**kwargs 来调用一个函数。 假设，你有这样一个小函数："
   ]
  },
  {
   "cell_type": "code",
   "execution_count": 4,
   "metadata": {},
   "outputs": [],
   "source": [
    "def test_args_kwargs(arg1, arg2, arg3):\n",
    "    print(\"arg1:\", arg1)\n",
    "    print(\"arg2:\", arg2)\n",
    "    print(\"arg3:\", arg3)"
   ]
  },
  {
   "cell_type": "code",
   "execution_count": 5,
   "metadata": {},
   "outputs": [
    {
     "name": "stdout",
     "output_type": "stream",
     "text": [
      "arg1: two\n",
      "arg2: 3\n",
      "arg3: 5\n"
     ]
    }
   ],
   "source": [
    "# 你可以使用*args或**kwargs来给这个小函数传递参数。 下面是怎样做：\n",
    "\n",
    "args = (\"two\", 3, 5)\n",
    "test_args_kwargs(*args)"
   ]
  },
  {
   "cell_type": "code",
   "execution_count": 7,
   "metadata": {},
   "outputs": [
    {
     "name": "stdout",
     "output_type": "stream",
     "text": [
      "arg1: two\n",
      "arg2: 3\n",
      "arg3: 5\n"
     ]
    }
   ],
   "source": [
    "# 这种形式也成立\n",
    "args2 = (\"two\", 3, 5, 7)\n",
    "test_args_kwargs(*args)"
   ]
  },
  {
   "cell_type": "code",
   "execution_count": 9,
   "metadata": {},
   "outputs": [
    {
     "name": "stdout",
     "output_type": "stream",
     "text": [
      "arg1: 1\n",
      "arg2: two\n",
      "arg3: 3\n"
     ]
    }
   ],
   "source": [
    "kwargs = {\"arg3\": 3, \"arg2\": \"two\", \"arg1\": 1}\n",
    "\n",
    "test_args_kwargs(**kwargs)"
   ]
  },
  {
   "cell_type": "code",
   "execution_count": null,
   "metadata": {},
   "outputs": [],
   "source": []
  }
 ],
 "metadata": {
  "kernelspec": {
   "display_name": "Python 3",
   "language": "python",
   "name": "python3"
  },
  "language_info": {
   "codemirror_mode": {
    "name": "ipython",
    "version": 3
   },
   "file_extension": ".py",
   "mimetype": "text/x-python",
   "name": "python",
   "nbconvert_exporter": "python",
   "pygments_lexer": "ipython3",
   "version": "3.11.3"
  }
 },
 "nbformat": 4,
 "nbformat_minor": 2
}
